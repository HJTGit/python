{
 "cells": [
  {
   "cell_type": "code",
   "execution_count": 15,
   "metadata": {},
   "outputs": [
    {
     "name": "stdout",
     "output_type": "stream",
     "text": [
      "name\n",
      "name\n",
      "睡觉\n",
      "******************************\n",
      "睡觉\n",
      "None\n",
      "**************************************************\n",
      "hjt\n"
     ]
    },
    {
     "ename": "AttributeError",
     "evalue": "'Teacher' object has no attribute '__score'",
     "output_type": "error",
     "traceback": [
      "\u001b[1;31m---------------------------------------------------------------------------\u001b[0m",
      "\u001b[1;31mAttributeError\u001b[0m                            Traceback (most recent call last)",
      "\u001b[1;32m<ipython-input-15-e44ea347e0ba>\u001b[0m in \u001b[0;36m<module>\u001b[1;34m()\u001b[0m\n\u001b[0;32m     26\u001b[0m \u001b[1;33m\u001b[0m\u001b[0m\n\u001b[0;32m     27\u001b[0m \u001b[1;31m# 私有访问问题\u001b[0m\u001b[1;33m\u001b[0m\u001b[1;33m\u001b[0m\u001b[0m\n\u001b[1;32m---> 28\u001b[1;33m \u001b[0mprint\u001b[0m\u001b[1;33m(\u001b[0m\u001b[0mt\u001b[0m\u001b[1;33m.\u001b[0m\u001b[0m__score\u001b[0m\u001b[1;33m)\u001b[0m\u001b[1;33m\u001b[0m\u001b[0m\n\u001b[0m",
      "\u001b[1;31mAttributeError\u001b[0m: 'Teacher' object has no attribute '__score'"
     ]
    }
   ],
   "source": [
    "# 继承的语法\n",
    "# 在python中，任何类都有一个共同的父类叫object\n",
    "class Person():\n",
    "    name = \"name\"\n",
    "    age = 0\n",
    "    __score = 99 # 考试成绩是秘密，只有自己知道\n",
    "    _petname = \"hjt\" # 小名是受保护的，子类可以用，但不能公用\n",
    "    def sleep(self):\n",
    "        print(\"睡觉\")\n",
    "        \n",
    "# 父类写在括号内\n",
    "class Teacher(Person):\n",
    "    teacher_id = 1997\n",
    "    def make_test(self):\n",
    "        print(\"考试\")\n",
    "\n",
    "t = Teacher()\n",
    "print(t.name)\n",
    "print(Teacher.name)\n",
    "t.sleep()\n",
    "print(\"*\" * 30)\n",
    "print(Teacher.sleep(t))\n",
    "print(\"*\" * 50)\n",
    "\n",
    "# 受保护的不能外部访问，为啥这里可以\n",
    "print(t._petname)\n",
    "\n",
    "# 私有访问问题\n",
    "# 公开访问私有变量，报错\n",
    "print(t.__score)"
   ]
  }
 ],
 "metadata": {
  "kernelspec": {
   "display_name": "Python 3",
   "language": "python",
   "name": "python3"
  },
  "language_info": {
   "codemirror_mode": {
    "name": "ipython",
    "version": 3
   },
   "file_extension": ".py",
   "mimetype": "text/x-python",
   "name": "python",
   "nbconvert_exporter": "python",
   "pygments_lexer": "ipython3",
   "version": "3.6.5"
  }
 },
 "nbformat": 4,
 "nbformat_minor": 2
}
