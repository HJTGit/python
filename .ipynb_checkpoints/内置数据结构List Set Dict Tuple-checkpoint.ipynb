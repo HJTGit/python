{
 "cells": [
  {
   "cell_type": "markdown",
   "metadata": {},
   "source": [
    "# 汉诺塔问题\n",
    "- 规则\n",
    "    - 1.每次只能移动一个盘子\n",
    "    - 2.任何一次移动，每个塔的状态必须是小盘子在上，大盘子在下\n",
    "- 移动\n",
    "    - A B C 三个塔 \n",
    "        - n = 1 一个盘子 A-->C\n",
    "        - n = 2 二个盘子 A-->B A-->C B-->C\n",
    "        - n = 3 三个盘子 \n",
    "            1. 把A上的两个盘子，通过C移动到B上，调用递归实现\n",
    "            2. 把A上剩下的一个最大盘子移动到C上，A-->C\n",
    "            3. 把B上两个盘子，借助于A，移动到C上去，调用递归\n",
    "        - n = n \n",
    "            1. 把A上的n-1个盘子，通过C移动到B上，调用递归\n",
    "            2. 把A上剩下的一个最大盘子移动到C上，A-->C\n",
    "            3. 把B上n-1个盘子，借助于A，移动到C上去，调用递归"
   ]
  },
  {
   "cell_type": "code",
   "execution_count": 19,
   "metadata": {},
   "outputs": [
    {
     "name": "stdout",
     "output_type": "stream",
     "text": [
      "A --> C\n",
      "-------------------\n",
      "A --> B\n",
      "A --> C\n",
      "B --> C\n",
      "-------------------\n",
      "A --> C\n",
      "A --> B\n",
      "C --> B\n",
      "A --> C\n",
      "B --> A\n",
      "B --> C\n",
      "A --> C\n"
     ]
    }
   ],
   "source": [
    "def HanoiTower(n, a, b, c):\n",
    "    '''\n",
    "    n:表示几个盘子\n",
    "    a:表示第一个柱子\n",
    "    b:表示第二个柱子\n",
    "    c:表示第三个柱子\n",
    "    '''\n",
    "    if n == 1:\n",
    "        print(a, '-->', c)\n",
    "        return None\n",
    "    #把A上的n-1个盘子，通过C移动到B上，调用递归\n",
    "    HanoiTower(n-1, a, c, b)\n",
    "    #把A上剩下的一个最大盘子移动到C上，A-->C\n",
    "    print(a, '-->', c)\n",
    "    #把B上n-1个盘子，借助于A，移动到C上去，调用递归\n",
    "    HanoiTower(n-1, b, a, c)\n",
    "HanoiTower(1, 'A', 'B', 'C')\n",
    "print('-------------------')\n",
    "HanoiTower(2, 'A', 'B', 'C')\n",
    "print('-------------------')\n",
    "HanoiTower(3, 'A', 'B', 'C')"
   ]
  },
  {
   "cell_type": "markdown",
   "metadata": {},
   "source": [
    "# list(列表)\n",
    "- del:删除命令"
   ]
  },
  {
   "cell_type": "code",
   "execution_count": 21,
   "metadata": {},
   "outputs": [
    {
     "name": "stdout",
     "output_type": "stream",
     "text": [
      "[1, 2, 3, 4]\n"
     ]
    }
   ],
   "source": [
    "# del删除\n",
    "a = [1, 2, 3, 4, 5]\n",
    "del a[4]\n",
    "print(a)"
   ]
  },
  {
   "cell_type": "code",
   "execution_count": 23,
   "metadata": {},
   "outputs": [
    {
     "name": "stdout",
     "output_type": "stream",
     "text": [
      "2612412576136\n",
      "2612412576136\n",
      "[1, 2, 3, 4]\n"
     ]
    }
   ],
   "source": [
    "# del删除\n",
    "# 如果使用del后 a的id改变说明del删除生成了新的list\n",
    "a = [1, 2, 3, 4, 5]\n",
    "print(id(a))\n",
    "del a[4]\n",
    "print(id(a))\n",
    "print(a)"
   ]
  },
  {
   "cell_type": "code",
   "execution_count": 24,
   "metadata": {},
   "outputs": [
    {
     "ename": "NameError",
     "evalue": "name 'a' is not defined",
     "output_type": "error",
     "traceback": [
      "\u001b[1;31m---------------------------------------------------------------------------\u001b[0m",
      "\u001b[1;31mNameError\u001b[0m                                 Traceback (most recent call last)",
      "\u001b[1;32m<ipython-input-24-71e9f5b181af>\u001b[0m in \u001b[0;36m<module>\u001b[1;34m()\u001b[0m\n\u001b[0;32m      1\u001b[0m \u001b[1;31m# del一个变量后，不能再继续使用该变量\u001b[0m\u001b[1;33m\u001b[0m\u001b[1;33m\u001b[0m\u001b[0m\n\u001b[0;32m      2\u001b[0m \u001b[1;32mdel\u001b[0m \u001b[0ma\u001b[0m\u001b[1;33m\u001b[0m\u001b[0m\n\u001b[1;32m----> 3\u001b[1;33m \u001b[0mprint\u001b[0m\u001b[1;33m(\u001b[0m\u001b[0ma\u001b[0m\u001b[1;33m)\u001b[0m\u001b[1;33m\u001b[0m\u001b[0m\n\u001b[0m",
      "\u001b[1;31mNameError\u001b[0m: name 'a' is not defined"
     ]
    }
   ],
   "source": [
    "# del一个变量后，不能再继续使用该变量\n",
    "del a\n",
    "print(a)"
   ]
  },
  {
   "cell_type": "code",
   "execution_count": 25,
   "metadata": {},
   "outputs": [
    {
     "name": "stdout",
     "output_type": "stream",
     "text": [
      "[1, 2, 3, 4, 5, 5, 6, 7, 8, 9]\n"
     ]
    }
   ],
   "source": [
    "# 使用加号 连接两个列表\n",
    "a = [1, 2, 3, 4, 5]\n",
    "b = [5, 6, 7, 8, 9]\n",
    "c = a + b\n",
    "print(c)"
   ]
  },
  {
   "cell_type": "code",
   "execution_count": 26,
   "metadata": {},
   "outputs": [
    {
     "name": "stdout",
     "output_type": "stream",
     "text": [
      "[1, 2, 3, 4, 5, 1, 2, 3, 4, 5]\n"
     ]
    }
   ],
   "source": [
    "# 使用乘号操作列表\n",
    "# 列表直接跟一个整数相乘\n",
    "# 相当于把n个列表接在了一起\n",
    "a = [1, 2, 3, 4, 5]\n",
    "b = a * 2\n",
    "print(b)"
   ]
  },
  {
   "cell_type": "code",
   "execution_count": 31,
   "metadata": {},
   "outputs": [
    {
     "name": "stdout",
     "output_type": "stream",
     "text": [
      "True\n",
      "False\n"
     ]
    }
   ],
   "source": [
    "# 成员资格运算\n",
    "# 判断一个元素是否再list中\n",
    "a = [1, 2, 3, 4, 5, 6]\n",
    "b = 6\n",
    "c = b in a \n",
    "print(c)\n",
    "# not in\n",
    "print(b not in a)"
   ]
  },
  {
   "cell_type": "markdown",
   "metadata": {},
   "source": [
    "# 链表的遍历\n",
    "- for\n",
    "- while"
   ]
  },
  {
   "cell_type": "code",
   "execution_count": 32,
   "metadata": {},
   "outputs": [
    {
     "name": "stdout",
     "output_type": "stream",
     "text": [
      "1\n",
      "2\n",
      "3\n",
      "4\n",
      "5\n"
     ]
    }
   ],
   "source": [
    "# for in list\n",
    "a = [1, 2, 3, 4, 5]\n",
    "\n",
    "# 挨个打印a里边的元素\n",
    "for i in a:\n",
    "    print(i)"
   ]
  },
  {
   "cell_type": "code",
   "execution_count": 1,
   "metadata": {},
   "outputs": [
    {
     "name": "stdout",
     "output_type": "stream",
     "text": [
      "1\n",
      "2\n",
      "3\n",
      "4\n",
      "5\n",
      "6\n",
      "7\n",
      "8\n",
      "9\n",
      "<class 'range'>\n"
     ]
    }
   ],
   "source": [
    "# range \n",
    "# in 后边的变量要求是可迭代的内容\n",
    "for i in range(1,10):\n",
    "    print(i)\n",
    "print(type(range(1,10)))"
   ]
  },
  {
   "cell_type": "code",
   "execution_count": 4,
   "metadata": {},
   "outputs": [
    {
     "name": "stdout",
     "output_type": "stream",
     "text": [
      "1\n",
      "2\n",
      "3\n",
      "4\n",
      "5\n"
     ]
    }
   ],
   "source": [
    "# while循环遍历list\n",
    "# 一般不用while\n",
    "a = [1,2,3,4,5]\n",
    "length = len(a)\n",
    "# indx 表示list的下标\n",
    "indx = 0\n",
    "while indx < length:\n",
    "    print(a[indx])\n",
    "    indx += 1"
   ]
  },
  {
   "cell_type": "code",
   "execution_count": 5,
   "metadata": {},
   "outputs": [
    {
     "name": "stdout",
     "output_type": "stream",
     "text": [
      "one 1\n",
      "two 2\n",
      "three 3\n"
     ]
    }
   ],
   "source": [
    "# 双层列表循环\n",
    "# a为嵌套列表，或者叫双层列表\n",
    "a = [['one', 1], ['two', 2], ['three', 3]]\n",
    "for k,v in a:\n",
    "    print(k,v)"
   ]
  },
  {
   "cell_type": "code",
   "execution_count": 6,
   "metadata": {
    "scrolled": true
   },
   "outputs": [
    {
     "ename": "ValueError",
     "evalue": "too many values to unpack (expected 2)",
     "output_type": "error",
     "traceback": [
      "\u001b[1;31m---------------------------------------------------------------------------\u001b[0m",
      "\u001b[1;31mValueError\u001b[0m                                Traceback (most recent call last)",
      "\u001b[1;32m<ipython-input-6-0ba6e5952100>\u001b[0m in \u001b[0;36m<module>\u001b[1;34m()\u001b[0m\n\u001b[0;32m      2\u001b[0m \u001b[1;31m# a为嵌套列表，或者叫双层列表\u001b[0m\u001b[1;33m\u001b[0m\u001b[1;33m\u001b[0m\u001b[0m\n\u001b[0;32m      3\u001b[0m \u001b[0ma\u001b[0m \u001b[1;33m=\u001b[0m \u001b[1;33m[\u001b[0m\u001b[1;33m[\u001b[0m\u001b[1;34m'one'\u001b[0m\u001b[1;33m,\u001b[0m \u001b[1;36m1\u001b[0m\u001b[1;33m,\u001b[0m \u001b[1;36m2\u001b[0m\u001b[1;33m]\u001b[0m\u001b[1;33m,\u001b[0m \u001b[1;33m[\u001b[0m\u001b[1;34m'two'\u001b[0m\u001b[1;33m,\u001b[0m \u001b[1;36m2\u001b[0m\u001b[1;33m,\u001b[0m \u001b[1;34m'hello'\u001b[0m\u001b[1;33m]\u001b[0m\u001b[1;33m,\u001b[0m \u001b[1;33m[\u001b[0m\u001b[1;34m'three'\u001b[0m\u001b[1;33m,\u001b[0m \u001b[1;36m3\u001b[0m\u001b[1;33m]\u001b[0m\u001b[1;33m]\u001b[0m\u001b[1;33m\u001b[0m\u001b[0m\n\u001b[1;32m----> 4\u001b[1;33m \u001b[1;32mfor\u001b[0m \u001b[0mk\u001b[0m\u001b[1;33m,\u001b[0m\u001b[0mv\u001b[0m \u001b[1;32min\u001b[0m \u001b[0ma\u001b[0m\u001b[1;33m:\u001b[0m\u001b[1;33m\u001b[0m\u001b[0m\n\u001b[0m\u001b[0;32m      5\u001b[0m     \u001b[0mprint\u001b[0m\u001b[1;33m(\u001b[0m\u001b[0mk\u001b[0m\u001b[1;33m,\u001b[0m\u001b[0mv\u001b[0m\u001b[1;33m)\u001b[0m\u001b[1;33m\u001b[0m\u001b[0m\n",
      "\u001b[1;31mValueError\u001b[0m: too many values to unpack (expected 2)"
     ]
    }
   ],
   "source": [
    "# 双层列表循环变异\n",
    "# a为嵌套列表，或者叫双层列表\n",
    "a = [['one', 1, 2], ['two', 2, 'hello'], ['three', 3]]\n",
    "for k,v in a:\n",
    "    print(k,v)"
   ]
  },
  {
   "cell_type": "code",
   "execution_count": 9,
   "metadata": {},
   "outputs": [
    {
     "name": "stdout",
     "output_type": "stream",
     "text": [
      "one 1 一\n",
      "two 2 二\n",
      "three 3 三\n"
     ]
    }
   ],
   "source": [
    "# 双层列表循环变异\n",
    "# a为嵌套列表，或者叫双层列表\n",
    "a = [['one', 1, '一'], ['two', 2, '二'], ['three', 3, '三']]\n",
    "# 这个例子说明 k，v，w的个数应该跟解包出来的变量个数一致\n",
    "for k,v,w in a:\n",
    "    print(k,v,w)"
   ]
  },
  {
   "cell_type": "markdown",
   "metadata": {},
   "source": [
    "# 列表内涵：list content\n",
    "- 通过简单方法创作列表"
   ]
  },
  {
   "cell_type": "code",
   "execution_count": 10,
   "metadata": {},
   "outputs": [
    {
     "name": "stdout",
     "output_type": "stream",
     "text": [
      "['a', 'b', 'c']\n"
     ]
    }
   ],
   "source": [
    "# for 创建\n",
    "a = ['a', 'b', 'c']\n",
    "# 用 list a 创建 list b\n",
    "b = [i for i in a]\n",
    "print(b)"
   ]
  },
  {
   "cell_type": "code",
   "execution_count": 12,
   "metadata": {},
   "outputs": [
    {
     "name": "stdout",
     "output_type": "stream",
     "text": [
      "[10, 20, 30, 40, 50]\n"
     ]
    }
   ],
   "source": [
    "# 对a中所有元素乘以10，生成一个新list\n",
    "a = [1, 2, 3, 4, 5]\n",
    "# 用 list a 创建 list b\n",
    "b = [i*10 for i in a]\n",
    "print(b)"
   ]
  },
  {
   "cell_type": "code",
   "execution_count": 17,
   "metadata": {},
   "outputs": [
    {
     "name": "stdout",
     "output_type": "stream",
     "text": [
      "[2, 4, 6, 8, 10, 12, 14, 16, 18, 20, 22, 24, 26, 28, 30, 32, 34]\n"
     ]
    }
   ],
   "source": [
    "# 过滤原来的list放入新的列表\n",
    "# 如原列表a 把a中所有的偶数生成新的列表b\n",
    "a = [x for x in range(1,35)]# 生成从1到34的列表\n",
    "b = [i for i in a if i % 2 == 0]\n",
    "print(b)"
   ]
  },
  {
   "cell_type": "code",
   "execution_count": 2,
   "metadata": {},
   "outputs": [
    {
     "name": "stdout",
     "output_type": "stream",
     "text": [
      "[1, 2, 3]\n",
      "[100, 200, 300]\n",
      "[101, 201, 301, 102, 202, 302, 103, 203, 303]\n",
      "101 201 301 102 202 302 103 203 303 \n",
      "[101, 201, 102, 202, 103, 203]\n"
     ]
    }
   ],
   "source": [
    "# 列表生成式可以嵌套\n",
    "# 有两个列表a，b\n",
    "a = [i for i in range(1,4)]# 生成list a\n",
    "print(a)\n",
    "b = [i for i in range(100,400) if i % 100 == 0]\n",
    "print(b)\n",
    "# 列表生成是可以嵌套\n",
    "c = [m+n for m in a for n in b]\n",
    "print(c)\n",
    "# 等价于下面代码\n",
    "for m in a:\n",
    "    for n in b:\n",
    "        print(m+n, end=\" \")\n",
    "print()        \n",
    "# 嵌套的列表生成式可以用条件表达式\n",
    "c = [m+n for m in a for n in b if m+n < 250]\n",
    "print(c)"
   ]
  },
  {
   "cell_type": "markdown",
   "metadata": {},
   "source": [
    "# 关于列表常用函数"
   ]
  },
  {
   "cell_type": "code",
   "execution_count": 5,
   "metadata": {},
   "outputs": [
    {
     "name": "stdout",
     "output_type": "stream",
     "text": [
      "99\n",
      "99\n",
      "1\n"
     ]
    }
   ],
   "source": [
    "# len: 求列表的长度\n",
    "a = [x for x in range(1,100)]\n",
    "print(len(a))\n",
    "\n",
    "# max: 求列表中的最大值\n",
    "print(max(a))\n",
    "\n",
    "# min: 求列表中的最小值\n",
    "print(min(a))"
   ]
  },
  {
   "cell_type": "code",
   "execution_count": 9,
   "metadata": {},
   "outputs": [
    {
     "name": "stdout",
     "output_type": "stream",
     "text": [
      "[1, 2, 3]\n",
      "['h', 'u', 'o', 'j', 'u', 'n', 't', 'a', 'o']\n",
      "[10, 11, 12, 13, 14]\n"
     ]
    }
   ],
   "source": [
    "# list: 将其他格式的数据转换成list\n",
    "a = [1,2,3]\n",
    "print(list(a))\n",
    "b = \"huojuntao\"\n",
    "print(list(b))\n",
    "# 把range产生的内容转换成list\n",
    "print(list(range(10,15)))"
   ]
  },
  {
   "cell_type": "markdown",
   "metadata": {},
   "source": [
    "## 传值与传址的区别\n",
    "- 对于简单的数值，采用传值操作，即在函数内的操作不影响外面的变量\n",
    "- 对于复杂变量，采用传址操作，此时函数内的参数与外部的是同一份内容，修改会同时改变"
   ]
  },
  {
   "cell_type": "code",
   "execution_count": 2,
   "metadata": {},
   "outputs": [
    {
     "name": "stdout",
     "output_type": "stream",
     "text": [
      "[1, 2, 3, 4, 5]\n",
      "[1, 2, 300, 4, 5]\n",
      "[1, 2, 300, 4, 5]\n",
      "9\n",
      "109\n",
      "9\n"
     ]
    }
   ],
   "source": [
    "# 对于简单的数值，采用传值操作，即在函数内的操作不影响外面的变量\n",
    "# 对于复杂变量，采用传址操作，此时函数内的参数与外部的是同一份内容，修改会同时改变\n",
    "def a(n):\n",
    "    n[2] = 300\n",
    "    print(n)\n",
    "    return None\n",
    "def b(n):\n",
    "    n += 100\n",
    "    print(n)\n",
    "    return None\n",
    "\n",
    "an = [1,2,3,4,5]\n",
    "bn = 9\n",
    "\n",
    "print(an)\n",
    "a(an)\n",
    "print(an)\n",
    "\n",
    "print(bn)\n",
    "b(bn)\n",
    "print(bn)"
   ]
  },
  {
   "cell_type": "markdown",
   "metadata": {},
   "source": [
    "# 关于列表的函数"
   ]
  },
  {
   "cell_type": "code",
   "execution_count": 5,
   "metadata": {},
   "outputs": [
    {
     "data": {
      "text/plain": [
       "['My', 'name is HuoJuntao', 21, (3+5j)]"
      ]
     },
     "execution_count": 5,
     "metadata": {},
     "output_type": "execute_result"
    }
   ],
   "source": [
    "l = ['My', \"name is HuoJuntao\", 21, 3+5j]\n",
    "l"
   ]
  },
  {
   "cell_type": "code",
   "execution_count": 28,
   "metadata": {},
   "outputs": [
    {
     "name": "stdout",
     "output_type": "stream",
     "text": [
      "[1, 2, 3, 4]\n",
      "[1, 2, 3, 4, 100]\n"
     ]
    }
   ],
   "source": [
    "# append 插入一个内容\n",
    "a = [x for x in range(1,5)]\n",
    "print(a)\n",
    "a.append(100)\n",
    "print(a)"
   ]
  },
  {
   "cell_type": "code",
   "execution_count": 29,
   "metadata": {},
   "outputs": [
    {
     "name": "stdout",
     "output_type": "stream",
     "text": [
      "[1, 2, 3, 4, 100]\n",
      "[1, '哈哈', 2, 3, 4, 100]\n"
     ]
    }
   ],
   "source": [
    "# insert 指定位置插入 insert(index,date)插入的位置是index前面\n",
    "print(a)\n",
    "a.insert(1,\"哈哈\")\n",
    "print(a)"
   ]
  },
  {
   "cell_type": "code",
   "execution_count": 30,
   "metadata": {},
   "outputs": [
    {
     "name": "stdout",
     "output_type": "stream",
     "text": [
      "[1, '哈哈', 2, 3, 4, 100]\n",
      "100\n",
      "[1, '哈哈', 2, 3, 4]\n",
      "['哈哈', 2, 3, 4]\n"
     ]
    }
   ],
   "source": [
    "# 删除\n",
    "# del 删除\n",
    "# pop 从队尾拿出一个元素，即把最后一个元素取出来\n",
    "print(a)\n",
    "last_ele = a.pop()\n",
    "print(last_ele)\n",
    "print(a)\n",
    "del(a[0])\n",
    "print(a)"
   ]
  },
  {
   "cell_type": "code",
   "execution_count": 31,
   "metadata": {},
   "outputs": [
    {
     "name": "stdout",
     "output_type": "stream",
     "text": [
      "['哈哈', 2, 3, 4]\n",
      "2338791969352\n",
      "[2, 3, 4]\n",
      "2338791969352\n"
     ]
    }
   ],
   "source": [
    "# remove 在列表中删除指定的值的元素\n",
    "# 如果被删除的值没在list中 会报错\n",
    "# 即 删除list指定值的操作应该使用try...excepty语句，或者先行判断\n",
    "# if x in list:\n",
    "#     list.remove(x)\n",
    "print(a)\n",
    "print(id(a))\n",
    "a.remove('哈哈')\n",
    "print(a)\n",
    "print(id(a))\n",
    "#两个id一样 说明remove操作是在原list直接操作"
   ]
  },
  {
   "cell_type": "code",
   "execution_count": 33,
   "metadata": {},
   "outputs": [
    {
     "name": "stdout",
     "output_type": "stream",
     "text": [
      "[2, 3, 4]\n",
      "2338791969352\n",
      "[]\n",
      "2338791969352\n"
     ]
    }
   ],
   "source": [
    "# clear 清空\n",
    "print(a)\n",
    "print(id(a))\n",
    "a.clear()\n",
    "print(a)\n",
    "print(id(a))\n",
    "# 如果不需要列表地址保持不变，则清空列表可以使用以下方式\n",
    "# a = list()\n",
    "# a = []"
   ]
  },
  {
   "cell_type": "code",
   "execution_count": 45,
   "metadata": {},
   "outputs": [
    {
     "name": "stdout",
     "output_type": "stream",
     "text": [
      "2338791849864\n",
      "[1, 2, 3, 4, 5, 6]\n",
      "[6, 5, 4, 3, 2, 1]\n",
      "2338791849864\n"
     ]
    }
   ],
   "source": [
    "# reverse 翻转 原地翻转\n",
    "a = [1,2,3,4,5,6]\n",
    "print(id(a))\n",
    "print(a)\n",
    "a.reverse()\n",
    "print(a)\n",
    "print(id(a))"
   ]
  },
  {
   "cell_type": "code",
   "execution_count": 46,
   "metadata": {},
   "outputs": [
    {
     "name": "stdout",
     "output_type": "stream",
     "text": [
      "[6, 5, 4, 3, 2, 1]\n",
      "[6, 5, 4, 3, 2, 1, 1, 2, 3]\n"
     ]
    }
   ],
   "source": [
    "# extend 扩展列表，两个列表，把一个直接拼接到后一个上\n",
    "print(a)\n",
    "b = [1,2,3]\n",
    "a.extend(b)\n",
    "print(a)"
   ]
  },
  {
   "cell_type": "code",
   "execution_count": 47,
   "metadata": {},
   "outputs": [
    {
     "name": "stdout",
     "output_type": "stream",
     "text": [
      "[6, 5, 4, 3, 2, 1, 1, 2, 3]\n",
      "2\n"
     ]
    }
   ],
   "source": [
    "# count 查找列表中指定值或元素的个数\n",
    "print(a)\n",
    "a_len = a.count(3)\n",
    "print(a_len)"
   ]
  },
  {
   "cell_type": "code",
   "execution_count": 53,
   "metadata": {},
   "outputs": [
    {
     "name": "stdout",
     "output_type": "stream",
     "text": [
      "[1, 2, 3, 4, 5, 666]\n",
      "2338792523784\n",
      "[1, 2, 3, 777, 5, 666]\n",
      "[1, 2, 3, 777, 5, 666]\n",
      "2338792523784\n",
      "******************************\n",
      "[1, 2, 3, 777, 5, 666]\n",
      "2338791939464\n"
     ]
    }
   ],
   "source": [
    "# copy 拷贝 钱拷贝\n",
    "\n",
    "# 列表类型变量复制示例\n",
    "a = [1,2,3,4,5,666]\n",
    "print(a)\n",
    "print(id(a))\n",
    "# list类型，简单的赋值操作是传地址\n",
    "b = a\n",
    "b[3] = 777\n",
    "print(a)\n",
    "print(b)\n",
    "print(id(b))\n",
    "print(\"*\" * 30)\n",
    "# 为了解决以上问题，list赋值需要采用copy函数\n",
    "c = a.copy()\n",
    "print(c)\n",
    "# id变化，不是同一个地址\n",
    "print(id(c))"
   ]
  },
  {
   "cell_type": "code",
   "execution_count": 5,
   "metadata": {},
   "outputs": [
    {
     "name": "stdout",
     "output_type": "stream",
     "text": [
      "1946088732040\n",
      "1946089521736\n",
      "******************************\n",
      "1946089391816\n",
      "1946089391816\n",
      "[1, 2, 3, [10, 20, 6666]]\n",
      "[1, 2, 3, [10, 20, 6666]]\n",
      "1946088732040\n",
      "1946089521736\n"
     ]
    }
   ],
   "source": [
    "# 深拷贝与浅拷贝的区别\n",
    "# 出现该问题的原因是 copy是浅拷贝，即只拷贝一层内容\n",
    "# 深拷贝需要使用特定工具\n",
    "a = [1,2,3,[10,20,30]]\n",
    "b = a.copy()\n",
    "print(id(a))\n",
    "print(id(b))\n",
    "print(\"*\" * 30)\n",
    "print(id(a[3]))\n",
    "print(id(b[3]))\n",
    "a[3][2] = 6666\n",
    "print(a)\n",
    "print(b)\n",
    "print(id(a))\n",
    "print(id(b))\n"
   ]
  },
  {
   "cell_type": "markdown",
   "metadata": {},
   "source": [
    "# 元祖- tuple\n",
    "- 元祖可以看成是一个不可更改的list\n",
    "## 元祖创建"
   ]
  },
  {
   "cell_type": "code",
   "execution_count": 17,
   "metadata": {},
   "outputs": [
    {
     "name": "stdout",
     "output_type": "stream",
     "text": [
      "<class 'tuple'>\n",
      "******************************\n",
      "<class 'int'>\n",
      "<class 'tuple'>\n",
      "<class 'tuple'>\n",
      "******************************\n",
      "<class 'tuple'>\n",
      "<class 'tuple'>\n",
      "(1, 2, 3, 4, 5, 6, 7)\n",
      "<class 'tuple'>\n"
     ]
    }
   ],
   "source": [
    "# 创建空元祖\n",
    "t = ()\n",
    "print(type(t))\n",
    "print(\"*\" * 30)\n",
    "\n",
    "# 创建只有一个值的元祖\n",
    "t =(1)\n",
    "print(type(t))\n",
    "t =(1,)\n",
    "print(type(t))\n",
    "\n",
    "t = 1,\n",
    "print(type(t))\n",
    "print(\"*\" * 30)\n",
    "\n",
    "# 创建多个值的元祖\n",
    "t = (1,2,3,4,5)\n",
    "print(type(t))\n",
    "t = 1,2,3,4,5,6\n",
    "print(type(t))\n",
    "\n",
    "# 使用其他结构创建\n",
    "l = [1,2,3,4,5,6,7]\n",
    "t = tuple(l)\n",
    "print(t)\n",
    "print(type(t))"
   ]
  },
  {
   "cell_type": "markdown",
   "metadata": {},
   "source": [
    "## 元祖的特性\n",
    "- 是序列表，有序\n",
    "- 元祖数据值可以访问，不能修改\n",
    "- 元祖数据可以是任意类型\n",
    "- list的所有特性，除了可修改外tuple都具有"
   ]
  },
  {
   "cell_type": "code",
   "execution_count": 18,
   "metadata": {},
   "outputs": [
    {
     "name": "stdout",
     "output_type": "stream",
     "text": [
      "4\n"
     ]
    }
   ],
   "source": [
    "# 索引操作\n",
    "t = (1,2,3,4,5,6)\n",
    "print(t[3])"
   ]
  },
  {
   "cell_type": "code",
   "execution_count": 19,
   "metadata": {},
   "outputs": [
    {
     "ename": "IndexError",
     "evalue": "tuple index out of range",
     "output_type": "error",
     "traceback": [
      "\u001b[1;31m---------------------------------------------------------------------------\u001b[0m",
      "\u001b[1;31mIndexError\u001b[0m                                Traceback (most recent call last)",
      "\u001b[1;32m<ipython-input-19-a7f4fce0da2c>\u001b[0m in \u001b[0;36m<module>\u001b[1;34m()\u001b[0m\n\u001b[0;32m      1\u001b[0m \u001b[1;31m# 超标错误\u001b[0m\u001b[1;33m\u001b[0m\u001b[1;33m\u001b[0m\u001b[0m\n\u001b[1;32m----> 2\u001b[1;33m \u001b[0mprint\u001b[0m\u001b[1;33m(\u001b[0m\u001b[0mt\u001b[0m\u001b[1;33m[\u001b[0m\u001b[1;36m10\u001b[0m\u001b[1;33m]\u001b[0m\u001b[1;33m)\u001b[0m\u001b[1;33m\u001b[0m\u001b[0m\n\u001b[0m",
      "\u001b[1;31mIndexError\u001b[0m: tuple index out of range"
     ]
    }
   ],
   "source": [
    "# 超标错误\n",
    "print(t[10])"
   ]
  },
  {
   "cell_type": "code",
   "execution_count": 21,
   "metadata": {
    "scrolled": true
   },
   "outputs": [
    {
     "name": "stdout",
     "output_type": "stream",
     "text": [
      "1946089252760\n",
      "1946089496440\n",
      "(2, 4, 6)\n",
      "(3, 4, 5, 6, 7)\n"
     ]
    }
   ],
   "source": [
    "t = (1,2,3,4,5,6,7)\n",
    "t1 = t[1::2]#从下标1开始，到结束，步长为2\n",
    "print(id(t))\n",
    "print(id(t1))\n",
    "print(t1)\n",
    "# 切片可以超标\n",
    "t2 = t[2:100]\n",
    "print(t2)"
   ]
  },
  {
   "cell_type": "code",
   "execution_count": 27,
   "metadata": {},
   "outputs": [
    {
     "name": "stdout",
     "output_type": "stream",
     "text": [
      "(1, 2, 3)\n",
      "1946090123696\n",
      "(1, 2, 3, 4, 5, 6)\n",
      "1946089236904\n",
      "(1, 2, 3, 4, 5, 6, 4, 5, 6)\n"
     ]
    },
    {
     "ename": "TypeError",
     "evalue": "'tuple' object does not support item assignment",
     "output_type": "error",
     "traceback": [
      "\u001b[1;31m---------------------------------------------------------------------------\u001b[0m",
      "\u001b[1;31mTypeError\u001b[0m                                 Traceback (most recent call last)",
      "\u001b[1;32m<ipython-input-27-72b78c063e28>\u001b[0m in \u001b[0;36m<module>\u001b[1;34m()\u001b[0m\n\u001b[0;32m     12\u001b[0m \u001b[0mprint\u001b[0m\u001b[1;33m(\u001b[0m\u001b[0mt3\u001b[0m\u001b[1;33m)\u001b[0m\u001b[1;33m\u001b[0m\u001b[0m\n\u001b[0;32m     13\u001b[0m \u001b[1;31m# tuple的不可修改指的是内容的不可修改\u001b[0m\u001b[1;33m\u001b[0m\u001b[1;33m\u001b[0m\u001b[0m\n\u001b[1;32m---> 14\u001b[1;33m \u001b[0mt1\u001b[0m\u001b[1;33m[\u001b[0m\u001b[1;36m1\u001b[0m\u001b[1;33m]\u001b[0m \u001b[1;33m=\u001b[0m \u001b[1;36m100\u001b[0m\u001b[1;33m\u001b[0m\u001b[0m\n\u001b[0m",
      "\u001b[1;31mTypeError\u001b[0m: 'tuple' object does not support item assignment"
     ]
    }
   ],
   "source": [
    "# 序列相加\n",
    "t1 = (1,2,3)\n",
    "t2 = (4,5,6)\n",
    "# 传址操作\n",
    "print(t1)\n",
    "print(id(t1))\n",
    "t1 += t2\n",
    "# 类似于 t1 = (1, 2, 3, 4, 5, 6)\n",
    "print(t1)\n",
    "print(id(t1))\n",
    "t3 = t1 + t2\n",
    "print(t3)\n",
    "# tuple的不可修改指的是内容的不可修改\n",
    "t1[1] = 100"
   ]
  },
  {
   "cell_type": "code",
   "execution_count": 28,
   "metadata": {},
   "outputs": [
    {
     "name": "stdout",
     "output_type": "stream",
     "text": [
      "(1, 2, 3, 1, 2, 3, 1, 2, 3)\n"
     ]
    }
   ],
   "source": [
    "# 元祖相乘\n",
    "t = (1,2,3)\n",
    "t = t * 3\n",
    "print(t)"
   ]
  },
  {
   "cell_type": "code",
   "execution_count": 30,
   "metadata": {},
   "outputs": [
    {
     "name": "stdout",
     "output_type": "stream",
     "text": [
      "YES\n"
     ]
    }
   ],
   "source": [
    "# 成员检测\n",
    "t = (1,2,3,4)\n",
    "if 2 in t:\n",
    "    print(\"YES\")\n",
    "else:\n",
    "    print(\"NO\")"
   ]
  },
  {
   "cell_type": "code",
   "execution_count": 35,
   "metadata": {},
   "outputs": [
    {
     "name": "stdout",
     "output_type": "stream",
     "text": [
      "1 2 3 huojutuntao 哈哈 "
     ]
    }
   ],
   "source": [
    "# 元祖遍历，一般采用for\n",
    "# 1.单层元祖遍历\n",
    "t = (1,2,3,\"huojutuntao\",\"哈哈\")\n",
    "for i in t:\n",
    "    print(i , end=\" \")"
   ]
  },
  {
   "cell_type": "code",
   "execution_count": 39,
   "metadata": {},
   "outputs": [
    {
     "name": "stdout",
     "output_type": "stream",
     "text": [
      "(1, 2, 3)\n",
      "(2, 3, 4)\n",
      "('my', 'name', 'huojuntao')\n",
      "1 --- 2 --- 3\n",
      "2 --- 3 --- 4\n",
      "my --- name --- huojuntao\n"
     ]
    }
   ],
   "source": [
    "# 2.双层元祖的遍历\n",
    "t = ((1,2,3),(2,3,4),(\"my\",\"name\",\"huojuntao\"))\n",
    "\n",
    "for i in t:\n",
    "    print(i)\n",
    "    \n",
    "for k,m,n in t:\n",
    "    print(k, \"---\", m, \"---\", n)"
   ]
  },
  {
   "cell_type": "markdown",
   "metadata": {},
   "source": [
    "# 关于元祖的函数"
   ]
  },
  {
   "cell_type": "code",
   "execution_count": 40,
   "metadata": {},
   "outputs": [
    {
     "data": {
      "text/plain": [
       "6"
      ]
     },
     "execution_count": 40,
     "metadata": {},
     "output_type": "execute_result"
    }
   ],
   "source": [
    "# len:获取元祖长度\n",
    "t = (1,2,3,4,5,6)\n",
    "len(t)"
   ]
  },
  {
   "cell_type": "code",
   "execution_count": 41,
   "metadata": {},
   "outputs": [
    {
     "name": "stdout",
     "output_type": "stream",
     "text": [
      "6\n",
      "1\n"
     ]
    }
   ],
   "source": [
    "# max,min:最大值最小值\n",
    "print(max(t))\n",
    "print(min(t))"
   ]
  },
  {
   "cell_type": "code",
   "execution_count": 43,
   "metadata": {},
   "outputs": [
    {
     "name": "stdout",
     "output_type": "stream",
     "text": [
      "(1, 2, 3, 4, 5)\n",
      "()\n"
     ]
    }
   ],
   "source": [
    "# tuple:转化或创建元祖\n",
    "l = [1,2,3,4,5]\n",
    "t = tuple(l)\n",
    "print(t)\n",
    "\n",
    "t = tuple()\n",
    "print(t)"
   ]
  },
  {
   "cell_type": "markdown",
   "metadata": {},
   "source": [
    "# 元祖的函数\n",
    "- 基本跟list通用"
   ]
  },
  {
   "cell_type": "code",
   "execution_count": 48,
   "metadata": {},
   "outputs": [
    {
     "name": "stdout",
     "output_type": "stream",
     "text": [
      "4\n",
      "6\n"
     ]
    }
   ],
   "source": [
    "# count: 计算指定数据出现的次数\n",
    "t = (2,21,21,2,2,2,1,3,64,8)\n",
    "print(t.count(2))\n",
    "# index: 求指定元素在元祖中的索引位置,如果多个返回第一个\n",
    "print(t.index(1))"
   ]
  },
  {
   "cell_type": "markdown",
   "metadata": {},
   "source": [
    "# 元祖变量交换法\n",
    "- 两个变量交换值"
   ]
  },
  {
   "cell_type": "code",
   "execution_count": 52,
   "metadata": {},
   "outputs": [
    {
     "name": "stdout",
     "output_type": "stream",
     "text": [
      "1\n",
      "3\n",
      "******************************\n",
      "3\n",
      "1\n",
      "******************************\n",
      "1\n",
      "3\n"
     ]
    }
   ],
   "source": [
    "# 两个变量交换值\n",
    "a = 1\n",
    "b = 3\n",
    "print(a)\n",
    "print(b)\n",
    "print(\"*\" * 30)\n",
    "# java程序员\n",
    "c = a\n",
    "a = b\n",
    "b = c\n",
    "print(a)\n",
    "print(b)\n",
    "print(\"*\" * 30)\n",
    "# python写法\n",
    "a, b = b, a\n",
    "print(a)\n",
    "print(b)"
   ]
  },
  {
   "cell_type": "markdown",
   "metadata": {},
   "source": [
    "# 集合-Set\n",
    "- 集合是高中数学的一个概念\n",
    "- 一堆确定的无序的唯一的数据，集合中每一个数据成为一个元素"
   ]
  },
  {
   "cell_type": "code",
   "execution_count": 62,
   "metadata": {},
   "outputs": [
    {
     "name": "stdout",
     "output_type": "stream",
     "text": [
      "set()\n",
      "<class 'set'>\n",
      "{1, 2, 3, 4, 5}\n",
      "<class 'set'>\n"
     ]
    }
   ],
   "source": [
    "# 集合的定义\n",
    "s = set()\n",
    "print(s)\n",
    "print(type(s))\n",
    "\n",
    "# 大括号定义必须要有值，否则定义出的是一个dict\n",
    "s = {1,2,3,4,5}\n",
    "print(s)\n",
    "print(type(s))"
   ]
  },
  {
   "cell_type": "code",
   "execution_count": 55,
   "metadata": {},
   "outputs": [
    {
     "name": "stdout",
     "output_type": "stream",
     "text": [
      "{}\n",
      "<class 'dict'>\n"
     ]
    }
   ],
   "source": [
    "# 如果只用大括号定义，则定义的是一个dict类型\n",
    "d = {}\n",
    "print(d)\n",
    "print(type(d))"
   ]
  },
  {
   "cell_type": "markdown",
   "metadata": {},
   "source": [
    "# 集合的特征\n",
    "- 集合内数据无序，即无法使用索引和分片\n",
    "- 集合内数据元素具有唯一性，可以用来排除重复数据\n",
    "- 集合内数据，str，int，float，tuple，冰冻集合等，即内部只能放置可哈希数据"
   ]
  },
  {
   "cell_type": "markdown",
   "metadata": {},
   "source": [
    "# 集合序列操作"
   ]
  },
  {
   "cell_type": "code",
   "execution_count": 70,
   "metadata": {},
   "outputs": [
    {
     "name": "stdout",
     "output_type": "stream",
     "text": [
      "{1, 2, 3, 'hjt', 4, 5, 6, 'name'}\n",
      "YES\n"
     ]
    }
   ],
   "source": [
    "# 成员检测\n",
    "# in，not in\n",
    "s = {1,2,3,\"hjt\",4,5,6,\"name\"}\n",
    "print(s)\n",
    "if \"hjt\" in s:\n",
    "    print(\"YES\")\n",
    "else:\n",
    "    print(\"NO\")"
   ]
  },
  {
   "cell_type": "markdown",
   "metadata": {},
   "source": [
    "# 集合遍历操作"
   ]
  },
  {
   "cell_type": "code",
   "execution_count": 72,
   "metadata": {},
   "outputs": [
    {
     "name": "stdout",
     "output_type": "stream",
     "text": [
      "1 2 3 hjt 4 5 6 name "
     ]
    }
   ],
   "source": [
    "# for循环\n",
    "s = {1,2,3,\"hjt\",4,5,6,\"name\"}\n",
    "for i in s:\n",
    "    print(i, end=\" \")"
   ]
  },
  {
   "cell_type": "code",
   "execution_count": 73,
   "metadata": {},
   "outputs": [
    {
     "name": "stdout",
     "output_type": "stream",
     "text": [
      "huo -- jun -- tao\n",
      "4 -- 5 -- 6\n",
      "1 -- 2 -- 3\n",
      "('huo', 'jun', 'tao')\n",
      "(4, 5, 6)\n",
      "(1, 2, 3)\n"
     ]
    }
   ],
   "source": [
    "# 带有元祖的集合遍历\n",
    "s = {(1,2,3),(\"huo\",\"jun\",\"tao\"),(4,5,6)}\n",
    "for k,m,n in s:\n",
    "    print(k, \"--\", m, \"--\", n)\n",
    "for k in s:\n",
    "    print(k)"
   ]
  },
  {
   "cell_type": "markdown",
   "metadata": {},
   "source": [
    "# 集合的内涵"
   ]
  },
  {
   "cell_type": "code",
   "execution_count": 77,
   "metadata": {},
   "outputs": [
    {
     "name": "stdout",
     "output_type": "stream",
     "text": [
      "{23232, 1, 5, 3214, 434, 123, 124}\n",
      "{23232, 434, 124, 3214}\n"
     ]
    }
   ],
   "source": [
    "# 普通集合内涵\n",
    "# 以下集合在初始化后，自动过滤掉重复元素\n",
    "s = {123,3214,1,1,1,1,1,23232,434,123,124,5,1}\n",
    "print(s)\n",
    "\n",
    "# 带条件的集合内涵\n",
    "ss = {i for i in s if i % 2 == 0}\n",
    "print(ss)"
   ]
  },
  {
   "cell_type": "code",
   "execution_count": 84,
   "metadata": {},
   "outputs": [
    {
     "name": "stdout",
     "output_type": "stream",
     "text": [
      "{'namename', 'hjt', 'mymymy', 'isisisis', 'isis', 'namenamenamename', 'is', 'mymymymy', 'mymy', 'my', 'name', 'hjthjt', 'isisis', 'hjthjthjthjt', 'hjthjthjt', 'namenamename'}\n",
      "{'namename', 'mymy', 'isis', 'hjthjt'}\n"
     ]
    }
   ],
   "source": [
    "# 多循环的集合内涵\n",
    "s1 = {1,2,3,4}\n",
    "s2 = {\"my\",\"name\",\"is\",\"hjt\"}\n",
    "\n",
    "s = {m*n for m in s1 for n in s2}\n",
    "print(s)\n",
    "\n",
    "s = {m*n for m in s1 for n in s2 if m == 2}\n",
    "print(s)"
   ]
  },
  {
   "cell_type": "markdown",
   "metadata": {},
   "source": [
    "# 集合函数/关于集合的函数"
   ]
  },
  {
   "cell_type": "code",
   "execution_count": 87,
   "metadata": {},
   "outputs": [
    {
     "name": "stdout",
     "output_type": "stream",
     "text": [
      "{321, 1, 3, 4, 1232, 23, 24, 123}\n",
      "8\n",
      "1232\n",
      "1\n"
     ]
    }
   ],
   "source": [
    "# len,max,min:跟其他基本函数一致\n",
    "s = {321,123,123,4,3,24,1232,23,1,23,123}\n",
    "print(s)\n",
    "print(len(s))\n",
    "print(max(s))\n",
    "print(min(s))"
   ]
  },
  {
   "cell_type": "code",
   "execution_count": 88,
   "metadata": {},
   "outputs": [
    {
     "name": "stdout",
     "output_type": "stream",
     "text": [
      "{32, 1, 2, 4, 5}\n"
     ]
    }
   ],
   "source": [
    "# set: 生成一个集合\n",
    "l = [1,2,32,4,4,5]\n",
    "s = set(l)\n",
    "print(s)"
   ]
  },
  {
   "cell_type": "code",
   "execution_count": 89,
   "metadata": {},
   "outputs": [
    {
     "name": "stdout",
     "output_type": "stream",
     "text": [
      "{1, 123}\n"
     ]
    }
   ],
   "source": [
    "# add: 向集合内添加元素\n",
    "s = {1}\n",
    "s.add(123)\n",
    "print(s)"
   ]
  },
  {
   "cell_type": "code",
   "execution_count": 91,
   "metadata": {},
   "outputs": [
    {
     "name": "stdout",
     "output_type": "stream",
     "text": [
      "{1, 2, 5, 23, 31}\n",
      "1946090332680\n",
      "set()\n",
      "1946090332680\n"
     ]
    }
   ],
   "source": [
    "# clear: 原地清空数据\n",
    "s = {1,1,2,31,23,5}\n",
    "print(s)\n",
    "print(id(s))\n",
    "s.clear()\n",
    "print(s)\n",
    "print(id(s))"
   ]
  },
  {
   "cell_type": "code",
   "execution_count": 9,
   "metadata": {},
   "outputs": [
    {
     "name": "stdout",
     "output_type": "stream",
     "text": [
      "{'haha', 1, 2, 3, 4, 5, 6, 7}\n",
      "{'haha', 1, 2, 3, 4, 5, 6, 7}\n",
      "3082314433928\n",
      "3082300333640\n",
      "******************************\n",
      "{1, 2, 3, 4, 5, 6, 7}\n",
      "3082314433928\n",
      "{1, 2, 3, 4, 5, 6, 7}\n",
      "3082314433928\n"
     ]
    }
   ],
   "source": [
    "# copy: 拷贝\n",
    "# remove: 移除指定的值，如果要删除的值不存在 会报错\n",
    "# discard: 移除集合中指定的值，如果值不存在不会报错\n",
    "s = {1,2,3,4,5,6,7,\"haha\"}\n",
    "s1 = s.copy()\n",
    "print(s)\n",
    "print(s1)\n",
    "print(id(s))\n",
    "print(id(s1))\n",
    "print(\"*\" * 30)\n",
    "\n",
    "s.remove(\"haha\")\n",
    "print(s)\n",
    "print(id(s))\n",
    "\n",
    "s.discard(\"13212312312\")\n",
    "print(s)\n",
    "print(id(s))"
   ]
  },
  {
   "cell_type": "code",
   "execution_count": 11,
   "metadata": {},
   "outputs": [
    {
     "name": "stdout",
     "output_type": "stream",
     "text": [
      "1\n",
      "{5, 214, 23, 412, 123, 124}\n"
     ]
    }
   ],
   "source": [
    "# pop 随机移除一个元素\n",
    "s = {1,1,23,214,124,123,412,5}\n",
    "d = s.pop()\n",
    "print(d)\n",
    "print(s)"
   ]
  },
  {
   "cell_type": "code",
   "execution_count": 18,
   "metadata": {},
   "outputs": [
    {
     "name": "stdout",
     "output_type": "stream",
     "text": [
      "{4, 5, 6}\n",
      "{1, 2, 3}\n",
      "{1, 2, 3, 4, 5, 6, 7, 8, 9}\n",
      "False\n",
      "False\n"
     ]
    }
   ],
   "source": [
    "# 集合函数\n",
    "# intersection： 交集\n",
    "# difference： 差集\n",
    "# union： 并集\n",
    "# issubset： 检查一个集合是否为另一个的子集\n",
    "# issuperset： 检查一个集合是否为另一个的超集\n",
    "s1 = {1,2,3,4,5,6}\n",
    "s2 = {4,5,6,7,8,9}\n",
    "\n",
    "print(s1.intersection(s2))\n",
    "print(s1.difference(s2))\n",
    "print(s1.union(s2))\n",
    "print(s1.issubset(s2))\n",
    "print(s1.issuperset(s2))"
   ]
  },
  {
   "cell_type": "code",
   "execution_count": 22,
   "metadata": {},
   "outputs": [
    {
     "name": "stdout",
     "output_type": "stream",
     "text": [
      "{1, 2, 3}\n"
     ]
    },
    {
     "ename": "TypeError",
     "evalue": "unsupported operand type(s) for +: 'set' and 'set'",
     "output_type": "error",
     "traceback": [
      "\u001b[1;31m---------------------------------------------------------------------------\u001b[0m",
      "\u001b[1;31mTypeError\u001b[0m                                 Traceback (most recent call last)",
      "\u001b[1;32m<ipython-input-22-30e395f4f067>\u001b[0m in \u001b[0;36m<module>\u001b[1;34m()\u001b[0m\n\u001b[0;32m      5\u001b[0m \u001b[0ms_1\u001b[0m \u001b[1;33m=\u001b[0m \u001b[0ms1\u001b[0m \u001b[1;33m-\u001b[0m \u001b[0ms2\u001b[0m\u001b[1;33m\u001b[0m\u001b[0m\n\u001b[0;32m      6\u001b[0m \u001b[0mprint\u001b[0m\u001b[1;33m(\u001b[0m\u001b[0ms_1\u001b[0m\u001b[1;33m)\u001b[0m\u001b[1;33m\u001b[0m\u001b[0m\n\u001b[1;32m----> 7\u001b[1;33m \u001b[0ms_2\u001b[0m \u001b[1;33m=\u001b[0m \u001b[0ms1\u001b[0m \u001b[1;33m+\u001b[0m \u001b[0ms2\u001b[0m\u001b[1;33m\u001b[0m\u001b[0m\n\u001b[0m\u001b[0;32m      8\u001b[0m \u001b[0mprint\u001b[0m\u001b[1;33m(\u001b[0m\u001b[0ms_2\u001b[0m\u001b[1;33m)\u001b[0m\u001b[1;33m\u001b[0m\u001b[0m\n",
      "\u001b[1;31mTypeError\u001b[0m: unsupported operand type(s) for +: 'set' and 'set'"
     ]
    }
   ],
   "source": [
    "# 集合的数学操作\n",
    "s1 = {1,2,3,4,5,6}\n",
    "s2 = {4,5,6,7}\n",
    "\n",
    "s_1 = s1 - s2\n",
    "print(s_1)\n",
    "s_2 = s1 + s2\n",
    "print(s_2)"
   ]
  },
  {
   "cell_type": "markdown",
   "metadata": {},
   "source": [
    "# frozen set: 冰冻集合\n",
    "- 就是不可以进行任何修改的集合\n",
    "- frozenset是一种特殊的集合"
   ]
  },
  {
   "cell_type": "code",
   "execution_count": 23,
   "metadata": {},
   "outputs": [
    {
     "name": "stdout",
     "output_type": "stream",
     "text": [
      "<class 'frozenset'>\n",
      "frozenset()\n"
     ]
    }
   ],
   "source": [
    "# 创建\n",
    "s = frozenset()\n",
    "print(type(s))\n",
    "print(s)"
   ]
  },
  {
   "cell_type": "markdown",
   "metadata": {},
   "source": [
    "# dict字典\n",
    "- 字典是一种组合数据，没有顺序的组合数据，数据以键值对形式出现"
   ]
  },
  {
   "cell_type": "code",
   "execution_count": 31,
   "metadata": {},
   "outputs": [
    {
     "name": "stdout",
     "output_type": "stream",
     "text": [
      "<class 'dict'>\n",
      "<class 'dict'>\n",
      "{'one': 1, 'two': 2, 'three': 3}\n",
      "{'one': 1, 'two': 2, 'three': 3}\n",
      "{'one': 1, 'two': 2, 'three': 3}\n",
      "{'one': 1, 'two': 2, 'three': 3}\n"
     ]
    }
   ],
   "source": [
    "# 字典的创建\n",
    "# 创建空字典\n",
    "d = {}\n",
    "print(type(d))\n",
    "\n",
    "d = dict()\n",
    "print(type(d))\n",
    "\n",
    "# 创建有值的字典\n",
    "# 每一组数据用冒号隔开，每一对数据用逗号隔开\n",
    "d = {\"one\":1, \"two\":2, \"three\":3}\n",
    "print(d)\n",
    "\n",
    "d = dict({\"one\":1, \"two\":2, \"three\":3})\n",
    "print(d)\n",
    "\n",
    "d = dict(one=1, two=2, three=3)\n",
    "print(d)\n",
    "\n",
    "d = dict([(\"one\",1), (\"two\",2), (\"three\",3)])\n",
    "print(d)"
   ]
  },
  {
   "cell_type": "markdown",
   "metadata": {},
   "source": [
    "# 字典的特征\n",
    "- 字典是序列类型，但是是无序序列，所以没有分片与索引\n",
    "- 字典中的数据每个都由键值对组成，即k，v对\n",
    "    - key: 必须是可哈希的值，比如int,string,float,tuple 但是list,set,dict不行\n",
    "    - value: 任何值"
   ]
  },
  {
   "cell_type": "markdown",
   "metadata": {},
   "source": [
    "# 字典常见操作"
   ]
  },
  {
   "cell_type": "code",
   "execution_count": 37,
   "metadata": {},
   "outputs": [
    {
     "name": "stdout",
     "output_type": "stream",
     "text": [
      "one\n",
      "{1: '一', 2: 'two', 3: 'three'}\n",
      "{2: 'two', 3: 'three'}\n"
     ]
    }
   ],
   "source": [
    "# 访问数据\n",
    "d = {1:\"one\", 2:\"two\", 3:\"three\"}\n",
    "# 注意访问格式，中括号内是键值\n",
    "print(d[1])\n",
    "\n",
    "d[1] = \"一\"\n",
    "print(d)\n",
    "\n",
    "# 删除 使用del操作\n",
    "del d[1]\n",
    "print(d)"
   ]
  },
  {
   "cell_type": "code",
   "execution_count": 40,
   "metadata": {},
   "outputs": [
    {
     "name": "stdout",
     "output_type": "stream",
     "text": [
      "key\n"
     ]
    }
   ],
   "source": [
    "# 成员检测 in, not in\n",
    "# 成员检测，检测的是key的内容\n",
    "d = {1:\"one\", 2:\"two\", 3:\"three\", 4:\"four\"}\n",
    "if 1 in d:\n",
    "    print(\"key\")\n",
    "if \"one\" in d:\n",
    "    print(\"value\")\n",
    "if (2,\"two\") in d:\n",
    "    print(\"key+value\")"
   ]
  },
  {
   "cell_type": "code",
   "execution_count": 45,
   "metadata": {},
   "outputs": [
    {
     "name": "stdout",
     "output_type": "stream",
     "text": [
      "1 -- one\n",
      "2 -- two\n",
      "3 -- three\n",
      "4 -- four\n",
      "******************************\n",
      "1 -- one\n",
      "2 -- two\n",
      "3 -- three\n",
      "4 -- four\n",
      "******************************\n",
      "one\n",
      "two\n",
      "three\n",
      "four\n",
      "******************************\n",
      "1 one\n",
      "2 two\n",
      "3 three\n",
      "4 four\n"
     ]
    }
   ],
   "source": [
    "# 遍历 在python2与3中 区别比较大，代码不通用\n",
    "d = {1:\"one\", 2:\"two\", 3:\"three\", 4:\"four\"}\n",
    "# 按key来使用for循环\n",
    "for k in d:\n",
    "    print(k, \"--\", d[k])\n",
    "print(\"*\" * 30)  \n",
    "\n",
    "# 上面代码可改写为\n",
    "for k in d.keys():\n",
    "    print(k, \"--\", d[k])   \n",
    "print(\"*\" * 30)\n",
    "\n",
    "# 只访问字典的值\n",
    "for v in d.values():\n",
    "    print(v)\n",
    "print(\"*\" * 30)\n",
    "\n",
    "# 注意以下特殊用法\n",
    "for k,v in d.items():\n",
    "    print(k, v)"
   ]
  },
  {
   "cell_type": "markdown",
   "metadata": {},
   "source": [
    "# 字典生成式"
   ]
  },
  {
   "cell_type": "code",
   "execution_count": 47,
   "metadata": {},
   "outputs": [
    {
     "name": "stdout",
     "output_type": "stream",
     "text": [
      "{2: 'two', 4: 'four'}\n"
     ]
    }
   ],
   "source": [
    "d = {1:\"one\", 2:\"two\", 3:\"three\", 4:\"four\"}\n",
    "\n",
    "# 加限制条件的字典生成式\n",
    "dd = {k:v for k,v in d.items() if k % 2 == 0}\n",
    "print(dd)"
   ]
  },
  {
   "cell_type": "markdown",
   "metadata": {},
   "source": [
    "# 字典的相关函数"
   ]
  },
  {
   "cell_type": "code",
   "execution_count": 48,
   "metadata": {},
   "outputs": [
    {
     "name": "stdout",
     "output_type": "stream",
     "text": [
      "{1: 'one', 2: 'two', 3: 'three', 4: 'four'}\n"
     ]
    }
   ],
   "source": [
    "# 通用函数: len, max, min, dict\n",
    "# str(函数): 返回字典的字符串格式\n",
    "d = {1:\"one\", 2:\"two\", 3:\"three\", 4:\"four\"}\n",
    "print(str(d))"
   ]
  },
  {
   "cell_type": "code",
   "execution_count": 55,
   "metadata": {},
   "outputs": [
    {
     "name": "stdout",
     "output_type": "stream",
     "text": [
      "dict_items([(1, 'one'), (2, 'two'), (3, 'three'), (4, 'four')])\n",
      "<class 'dict_items'>\n"
     ]
    }
   ],
   "source": [
    "# clear: 清空字典\n",
    "# items: 返回字典的键值对组成的元祖格式\n",
    "\n",
    "d = {1:\"one\", 2:\"two\", 3:\"three\", 4:\"four\"}\n",
    "i = d.items()\n",
    "print(i)\n",
    "print(type(i))"
   ]
  },
  {
   "cell_type": "code",
   "execution_count": 56,
   "metadata": {},
   "outputs": [
    {
     "name": "stdout",
     "output_type": "stream",
     "text": [
      "dict_keys([1, 2, 3, 4])\n",
      "<class 'dict_keys'>\n"
     ]
    }
   ],
   "source": [
    "# keys: 返回键组成的一个结构\n",
    "k = d.keys()\n",
    "print(k)\n",
    "print(type(k))"
   ]
  },
  {
   "cell_type": "code",
   "execution_count": 57,
   "metadata": {},
   "outputs": [
    {
     "name": "stdout",
     "output_type": "stream",
     "text": [
      "dict_values(['one', 'two', 'three', 'four'])\n",
      "<class 'dict_values'>\n"
     ]
    }
   ],
   "source": [
    "# values: 同理\n",
    "v = d.values()\n",
    "print(v)\n",
    "print(type(v))"
   ]
  },
  {
   "cell_type": "code",
   "execution_count": 64,
   "metadata": {},
   "outputs": [
    {
     "name": "stdout",
     "output_type": "stream",
     "text": [
      "one\n",
      "默认值\n",
      "None\n"
     ]
    },
    {
     "ename": "KeyError",
     "evalue": "111",
     "output_type": "error",
     "traceback": [
      "\u001b[1;31m---------------------------------------------------------------------------\u001b[0m",
      "\u001b[1;31mKeyError\u001b[0m                                  Traceback (most recent call last)",
      "\u001b[1;32m<ipython-input-64-3fda524f4807>\u001b[0m in \u001b[0;36m<module>\u001b[1;34m()\u001b[0m\n\u001b[0;32m      8\u001b[0m \u001b[1;33m\u001b[0m\u001b[0m\n\u001b[0;32m      9\u001b[0m \u001b[0mprint\u001b[0m\u001b[1;33m(\u001b[0m\u001b[0md\u001b[0m\u001b[1;33m.\u001b[0m\u001b[0mget\u001b[0m\u001b[1;33m(\u001b[0m\u001b[1;36m111\u001b[0m\u001b[1;33m)\u001b[0m\u001b[1;33m)\u001b[0m\u001b[1;33m\u001b[0m\u001b[0m\n\u001b[1;32m---> 10\u001b[1;33m \u001b[0mprint\u001b[0m\u001b[1;33m(\u001b[0m\u001b[0md\u001b[0m\u001b[1;33m[\u001b[0m\u001b[1;36m111\u001b[0m\u001b[1;33m]\u001b[0m\u001b[1;33m)\u001b[0m\u001b[1;33m\u001b[0m\u001b[0m\n\u001b[0m",
      "\u001b[1;31mKeyError\u001b[0m: 111"
     ]
    }
   ],
   "source": [
    "# get: 根据指定键，返回相应值 可以设置默认值\n",
    "d = {1:\"one\", 2:\"two\", 3:\"three\", 4:\"four\"}\n",
    "\n",
    "# get的默认值是None 可以设置\n",
    "print(d.get(1, \"默认值\"))\n",
    "print(d.get(11, \"默认值\"))\n",
    "\n",
    "#\n",
    "print(d.get(111))\n",
    "print(d[111])"
   ]
  },
  {
   "cell_type": "code",
   "execution_count": 67,
   "metadata": {},
   "outputs": [
    {
     "name": "stdout",
     "output_type": "stream",
     "text": [
      "{'壹': 'hahah', '贰': 'hahah', '叁': 'hahah'}\n"
     ]
    }
   ],
   "source": [
    "# fromkeys: 使用指定的序列作为键，使用一个值作为字典的所有键的值\n",
    "l = [\"壹\", \"贰\", \"叁\"]\n",
    "# 注意fromkeys两个参数的类型\n",
    "# 注意fromkeys的调用主题\n",
    "d = dict.fromkeys(l, \"hahah\")\n",
    "print(d)"
   ]
  }
 ],
 "metadata": {
  "kernelspec": {
   "display_name": "Python 3",
   "language": "python",
   "name": "python3"
  },
  "language_info": {
   "codemirror_mode": {
    "name": "ipython",
    "version": 3
   },
   "file_extension": ".py",
   "mimetype": "text/x-python",
   "name": "python",
   "nbconvert_exporter": "python",
   "pygments_lexer": "ipython3",
   "version": "3.6.5"
  }
 },
 "nbformat": 4,
 "nbformat_minor": 2
}
