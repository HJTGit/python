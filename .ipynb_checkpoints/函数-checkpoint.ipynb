{
 "cells": [
  {
   "cell_type": "markdown",
   "metadata": {},
   "source": [
    "# 四类参数\n",
    "- 普通参数\n",
    "- 默认参数\n",
    "- 关键字参数\n",
    "- 收集参数\n",
    "\n",
    "## 关键字参数开始\n",
    "- 语法\n",
    "        \n",
    "        def func(p1-v1, p2-v2......):\n",
    "            func body\n",
    "            \n",
    "        调用函数\n",
    "        func(p1=value1, p2=value2......)\n",
    "- 麻烦，但有优点：\n",
    "    - 不容易混淆，一般实参和形参只是按照位置一一对应即可，容易出错\n",
    "    - 使用关键字参数，可以不考虑参数位置\n",
    "\n"
   ]
  },
  {
   "cell_type": "code",
   "execution_count": 5,
   "metadata": {},
   "outputs": [
    {
     "name": "stdout",
     "output_type": "stream",
     "text": [
      "I am a student\n",
      "我叫hjt ,我今年21岁了， 我来自山西\n",
      "I am a student\n",
      "我叫hjt ,我今年21岁了， 我来自山西\n"
     ]
    }
   ],
   "source": [
    "#关键字参数案例\n",
    "def stu(name, age, addr):\n",
    "    print(\"I am a student\")\n",
    "    print(\"我叫{0} ,我今年{1}岁了， 我来自{2}\".format(name, age, addr))\n",
    "    \n",
    "name = \"hjt\"\n",
    "age = 21\n",
    "addr = \"山西\"\n",
    "#普通参数，只是按照位置传递，容易出错\n",
    "stu(name, age, addr)\n",
    "\n",
    "def stu_key(name=\"No name\", age=0, addr=\"No addr\"):\n",
    "    print(\"I am a student\")\n",
    "    print(\"我叫{0} ,我今年{1}岁了， 我来自{2}\".format(name, age, addr))\n",
    "    \n",
    "name = \"hjt\"\n",
    "age = 21\n",
    "addr = \"山西\"\n",
    "\n",
    "stu_key(name=name, addr=addr, age=age)"
   ]
  },
  {
   "cell_type": "markdown",
   "metadata": {},
   "source": [
    "## 收集参数\n",
    "- 把没有位置，不能和定义时的参数位置相对应的参数，放入一个特定的数据结构中\n",
    "- 语法\n",
    "\n",
    "        def func(*args):\n",
    "            func body\n",
    "            按照list使用方式访问args得到传入的参数\n",
    "        调用：\n",
    "        func(p1, p2, p3, p4......)\n",
    "- 参数名args不是必须，约定俗称\n",
    "- 参数名args前必须有星号\n",
    "- 收集参数可以和其他参数共存\n"
   ]
  },
  {
   "cell_type": "code",
   "execution_count": 11,
   "metadata": {},
   "outputs": [
    {
     "name": "stdout",
     "output_type": "stream",
     "text": [
      "Hello ,大家好\n",
      "<class 'tuple'>\n",
      "hjt 21 PingYao 计算机 Hello ,大家好\n",
      "<class 'tuple'>\n",
      "霍俊涛 "
     ]
    }
   ],
   "source": [
    "#收集参数代码\n",
    "#模拟学生自我介绍，内容不清楚\n",
    "# args可以看作一个list\n",
    "def stu(*args):\n",
    "    print(\"Hello ,大家好\")\n",
    "    #type函数，检测变量的类型\n",
    "    print(type(args))\n",
    "    for item in args:\n",
    "        print(item, \"\", end=\"\")\n",
    "\n",
    "stu(\"hjt\", 21, \"PingYao\", \"计算机\")\n",
    "stu(\"霍俊涛\")"
   ]
  },
  {
   "cell_type": "code",
   "execution_count": 12,
   "metadata": {},
   "outputs": [
    {
     "name": "stdout",
     "output_type": "stream",
     "text": [
      "Hello ,大家好\n",
      "<class 'tuple'>\n"
     ]
    }
   ],
   "source": [
    "#收集参数案例\n",
    "#说明收集参数可以不带任何实参调用，此时收集参数为空tuple\n",
    "stu()"
   ]
  },
  {
   "cell_type": "code",
   "execution_count": 13,
   "metadata": {},
   "outputs": [
    {
     "ename": "TypeError",
     "evalue": "stu() got an unexpected keyword argument 'name'",
     "output_type": "error",
     "traceback": [
      "\u001b[1;31m---------------------------------------------------------------------------\u001b[0m",
      "\u001b[1;31mTypeError\u001b[0m                                 Traceback (most recent call last)",
      "\u001b[1;32m<ipython-input-13-795301dc7fef>\u001b[0m in \u001b[0;36m<module>\u001b[1;34m()\u001b[0m\n\u001b[0;32m      1\u001b[0m \u001b[1;31m#如果使用关键字参数格式调用，会出现问题\u001b[0m\u001b[1;33m\u001b[0m\u001b[1;33m\u001b[0m\u001b[0m\n\u001b[1;32m----> 2\u001b[1;33m \u001b[0mstu\u001b[0m\u001b[1;33m(\u001b[0m\u001b[0mname\u001b[0m\u001b[1;33m=\u001b[0m\u001b[1;34m\"hjt\"\u001b[0m\u001b[1;33m)\u001b[0m\u001b[1;33m\u001b[0m\u001b[0m\n\u001b[0m",
      "\u001b[1;31mTypeError\u001b[0m: stu() got an unexpected keyword argument 'name'"
     ]
    }
   ],
   "source": [
    "#如果使用关键字参数格式调用，会出现问题\n",
    "stu(name=\"hjt\")"
   ]
  },
  {
   "cell_type": "markdown",
   "metadata": {},
   "source": [
    "### 收集参数之关键字收集参数\n",
    "- 把关键字参数按字典格式存入收集参数\n",
    "- 语法:\n",
    "\n",
    "        def func( **kwargs):\n",
    "            func body\n",
    "        \n",
    "        调用：\n",
    "        func(p1=v1, p2=v2, p3=v3......)\n",
    "- kwargs约定俗成\n",
    "- 调用的时候，把多余的关键字参数放入kwargs\n",
    "- 访问kwargs需要按字典格式访问\n"
   ]
  },
  {
   "cell_type": "code",
   "execution_count": 4,
   "metadata": {},
   "outputs": [
    {
     "name": "stdout",
     "output_type": "stream",
     "text": [
      "HEllO\n",
      "<class 'dict'>\n",
      "name ---- 霍俊涛\n",
      "age ---- 21\n",
      "addr ---- 平遥\n",
      "like ---- 123\n",
      "********************\n",
      "HEllO\n",
      "<class 'dict'>\n",
      "name ---- hjt\n"
     ]
    }
   ],
   "source": [
    "#收集参数案例\n",
    "#\n",
    "#调用的时候需要使用关键字参数调用\n",
    "def stu( **kwargs):\n",
    "    #在函数体内对于kwargs的使用不用带星号\n",
    "    print(\"HEllO\")\n",
    "    print(type(kwargs))\n",
    "    #对于字典的访问，python2 python3 有区别\n",
    "    for k,v in kwargs.items():\n",
    "        print(k, \"----\", v)\n",
    "        \n",
    "stu(name=\"霍俊涛\", age=21, addr=\"平遥\", like=\"123\")\n",
    "print(\"*\"*20) #写法等同于print(\"********************\")\n",
    "stu(name=\"hjt\")\n",
    "\n"
   ]
  },
  {
   "cell_type": "code",
   "execution_count": 5,
   "metadata": {},
   "outputs": [
    {
     "name": "stdout",
     "output_type": "stream",
     "text": [
      "HEllO\n",
      "<class 'dict'>\n"
     ]
    }
   ],
   "source": [
    "#收集参数可以为空案例\n",
    "stu()"
   ]
  },
  {
   "cell_type": "markdown",
   "metadata": {},
   "source": [
    "### 收集参数混合调用的顺序问题\n",
    "- 收集参数，关键字参数，普通参数可以混合使用\n",
    "- 使用规则就是，普通参数和关键字参数优先\n",
    "- 定义的时候一般按照普通参数，收集参数tuple，关键字参数，收集参数dict"
   ]
  },
  {
   "cell_type": "code",
   "execution_count": 22,
   "metadata": {},
   "outputs": [
    {
     "name": "stdout",
     "output_type": "stream",
     "text": [
      "Hello ,大家好\n",
      "我叫霍俊涛，我今年21岁了\n",
      "我的爱好是爱好\n",
      "********************\n",
      "收集参数tuple\n",
      "####################\n",
      "work --- hello\n",
      "hello --- world\n"
     ]
    }
   ],
   "source": [
    "#收集参数混合调用案例\n",
    "#stu模拟一个学生的自我介绍\n",
    "def stu(name, age, *args, hobby=\"没有\", **kwargs):\n",
    "    print(\"Hello ,大家好\")\n",
    "    print(\"我叫{0}，我今年{1}岁了\".format(name, age))\n",
    "    if hobby==\"没有\":\n",
    "        print(\"我没有爱好\")\n",
    "    else:\n",
    "        print(\"我的爱好是{0}\".format(hobby))\n",
    "    print(\"*\" * 20)\n",
    "    \n",
    "    for i in args:\n",
    "        print(i)\n",
    "    \n",
    "    print(\"#\" * 20)\n",
    "    \n",
    "    for k,v in kwargs.items():\n",
    "        print(k, \"---\", v)\n",
    "#开始调用函数\n",
    "#调用注意顺序 普通参数 收集参数tupel 关键字参数 收集参数dict\n",
    "stu(\"霍俊涛\", 21, \"收集参数tuple\", hobby=\"爱好\", work=\"hello\", hello=\"world\")"
   ]
  },
  {
   "cell_type": "markdown",
   "metadata": {},
   "source": [
    "### 收集参数的解包问题\n",
    "- 把参数放入list或者字典中，直接把list/dict中的值放入收集参数中\n",
    "- 语法:"
   ]
  },
  {
   "cell_type": "code",
   "execution_count": 4,
   "metadata": {},
   "outputs": [
    {
     "name": "stdout",
     "output_type": "stream",
     "text": [
      "hello\n",
      "<class 'tuple'>\n",
      "['霍俊涛', 'huojuntao', 21]\n",
      "********************\n",
      "hello\n",
      "<class 'tuple'>\n",
      "霍俊涛\n",
      "<class 'tuple'>\n",
      "huojuntao\n",
      "<class 'tuple'>\n",
      "21\n"
     ]
    }
   ],
   "source": [
    "#收集参数的解包问题\n",
    " \n",
    "def stu(*args):\n",
    "    print(\"hello\")\n",
    "    #n 用来表示循环次数 调试\n",
    "    n = 0\n",
    "    for i in args:\n",
    "        print(type(args))\n",
    "        print(i)\n",
    "#stu(\"霍俊涛\", \"huojuntao\", \"hjt\", 21)\n",
    "l = list()\n",
    "l.append(\"霍俊涛\")\n",
    "l.append(\"huojuntao\")\n",
    "l.append(21)\n",
    "\n",
    "stu(l)\n",
    "# 此时，args的表现形式是字典内一个list类型的元素，即 args = {[\"霍俊涛\", \"huojuntao\", 21], }\n",
    "print(\"*\" * 20)\n",
    "#此时的调用，需要解包符号，即调用的时候前面加一个星号\n",
    "stu(*l)\n"
   ]
  },
  {
   "cell_type": "markdown",
   "metadata": {},
   "source": [
    "### 同理，dict类型收集参数一样可以解包\n",
    "- 对dict类型进行解包 需两个星号"
   ]
  },
  {
   "cell_type": "code",
   "execution_count": 20,
   "metadata": {},
   "outputs": [
    {
     "name": "stdout",
     "output_type": "stream",
     "text": [
      "hello\n",
      "<class 'dict'>\n",
      "name ---- 霍俊涛\n",
      "<class 'dict'>\n",
      "pingying ---- huojuntao\n",
      "<class 'dict'>\n",
      "age ---- 21\n"
     ]
    }
   ],
   "source": [
    "def stu( **kwargs):\n",
    "    print(\"hello\")\n",
    "    for k,v in kwargs.items():\n",
    "        print(type(kwargs))\n",
    "        print(k, \"----\", v)\n",
    "#stu(\"霍俊涛\", \"huojuntao\", \"hjt\", 21)\n",
    "d = {\"name\":\"霍俊涛\", \"pingying\":\"huojuntao\", \"age\":21}\n",
    "#stu(d)\n",
    "stu(**d)"
   ]
  },
  {
   "cell_type": "markdown",
   "metadata": {},
   "source": [
    "## 返回值\n",
    "- 函数和过程的区别\n",
    "    - 有无返回值\n",
    "- 需要用return显示返回内容\n",
    "- 如果没有返回，则默认返回None\n",
    "- 推荐写法 无论是否有返回值，最后都要以return结束"
   ]
  },
  {
   "cell_type": "code",
   "execution_count": 21,
   "metadata": {},
   "outputs": [
    {
     "name": "stdout",
     "output_type": "stream",
     "text": [
      "有返回值\n",
      "1\n",
      "没有返回值\n",
      "None\n"
     ]
    }
   ],
   "source": [
    "#返回值示例\n",
    "\n",
    "def func_1():\n",
    "    print(\"有返回值\")\n",
    "    return 1\n",
    "\n",
    "def func_2():\n",
    "    print(\"没有返回值\")\n",
    "\n",
    "f1 = func_1()\n",
    "print(f1)\n",
    "f2 = func_2()\n",
    "print(f2)"
   ]
  },
  {
   "cell_type": "markdown",
   "metadata": {},
   "source": [
    "# 函数文档\n",
    "- 函数文档的作用  对当前函数提供使用相关的参考信息\n",
    "- 文档的写法\n",
    "    - 在函数内部开始的第一行使用三个字符串定义'''内容 '''\n",
    "    - 一般具有特定格式\n",
    "    - 参看案例\n",
    "- 文档查看\n",
    "    - 使用help函数，help(stu)\n",
    "    - 使用doc stu.__doc__"
   ]
  },
  {
   "cell_type": "code",
   "execution_count": 28,
   "metadata": {},
   "outputs": [
    {
     "name": "stdout",
     "output_type": "stream",
     "text": [
      "Help on function stu in module __main__:\n",
      "\n",
      "stu(name, age, *args)\n",
      "    这是文档\n",
      "    这是第二行文档\n",
      "    这是第三行文档\n",
      "\n"
     ]
    },
    {
     "data": {
      "text/plain": [
       "'\\n    这是文档\\n    这是第二行文档\\n    这是第三行文档\\n    '"
      ]
     },
     "execution_count": 28,
     "metadata": {},
     "output_type": "execute_result"
    }
   ],
   "source": [
    "#文档案例\n",
    "#\n",
    "def stu(name, age, *args):\n",
    "    '''\n",
    "    这是文档\n",
    "    这是第二行文档\n",
    "    这是第三行文档\n",
    "    '''\n",
    "    print(\"This is hanshu stu\")\n",
    "#查看文档\n",
    "help(stu)\n",
    "stu.__doc__"
   ]
  }
 ],
 "metadata": {
  "kernelspec": {
   "display_name": "Python 3",
   "language": "python",
   "name": "python3"
  },
  "language_info": {
   "codemirror_mode": {
    "name": "ipython",
    "version": 3
   },
   "file_extension": ".py",
   "mimetype": "text/x-python",
   "name": "python",
   "nbconvert_exporter": "python",
   "pygments_lexer": "ipython3",
   "version": "3.6.5"
  }
 },
 "nbformat": 4,
 "nbformat_minor": 2
}
