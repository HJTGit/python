{
 "cells": [
  {
   "cell_type": "code",
   "execution_count": 4,
   "metadata": {},
   "outputs": [
    {
     "name": "stdout",
     "output_type": "stream",
     "text": [
      "{'__module__': '__main__', 'name': 'hjt', 'age': 22, '__dict__': <attribute '__dict__' of 'Student' objects>, '__weakref__': <attribute '__weakref__' of 'Student' objects>, '__doc__': None}\n",
      "{}\n",
      "hjt\n"
     ]
    }
   ],
   "source": [
    "class Student():\n",
    "    name = \"hjt\"\n",
    "    age = 22\n",
    "print(Student.__dict__)\n",
    "# 实例化\n",
    "hjt = Student()\n",
    "print(hjt.__dict__)\n",
    "print(hjt.name)"
   ]
  },
  {
   "cell_type": "code",
   "execution_count": 8,
   "metadata": {},
   "outputs": [
    {
     "name": "stdout",
     "output_type": "stream",
     "text": [
      "hjt\n",
      "22\n",
      "1524266374960\n",
      "1924427488\n",
      "******************************\n",
      "hjt\n",
      "22\n",
      "1524266374960\n",
      "1924427488\n"
     ]
    }
   ],
   "source": [
    "class A():\n",
    "    name = \"hjt\"\n",
    "    age = 22\n",
    "    \n",
    "    # 注意say的写法，参数有一个self\n",
    "    def say(self):\n",
    "        self.name = \"huojuntao\"\n",
    "        self.age = \"18\"\n",
    "# 此时，A称为类实例        \n",
    "print(A.name)\n",
    "print(A.age)\n",
    "# id可以鉴别一个变量是否和另一个变量是同一变量\n",
    "print(id(A.name))\n",
    "print(id(A.age))\n",
    "print(\"*\" * 30)\n",
    "\n",
    "a = A()\n",
    "print(a.name)\n",
    "print(a.age)\n",
    "print(id(a.name))\n",
    "print(id(a.age))"
   ]
  },
  {
   "cell_type": "code",
   "execution_count": 11,
   "metadata": {},
   "outputs": [
    {
     "name": "stdout",
     "output_type": "stream",
     "text": [
      "hjt\n",
      "22\n",
      "1524266374960\n",
      "1924427488\n",
      "******************************\n",
      "{'__module__': '__main__', 'name': 'hjt', 'age': 22, 'say': <function A.say at 0x00000162E5663158>, '__dict__': <attribute '__dict__' of 'A' objects>, '__weakref__': <attribute '__weakref__' of 'A' objects>, '__doc__': None}\n",
      "{}\n",
      "{'name': '123', 'age': 13}\n",
      "******************************\n",
      "123\n",
      "13\n",
      "1524267089232\n",
      "1924427200\n"
     ]
    }
   ],
   "source": [
    "# 此时，A称为类实例        \n",
    "print(A.name)\n",
    "print(A.age)\n",
    "# id可以鉴别一个变量是否和另一个变量是同一变量\n",
    "print(id(A.name))\n",
    "print(id(A.age))\n",
    "print(\"*\" * 30)\n",
    "\n",
    "a = A()\n",
    "print(A.__dict__)\n",
    "print(a.__dict__)\n",
    "\n",
    "a.name = \"123\"\n",
    "a.age = 13\n",
    "print(a.__dict__)\n",
    "\n",
    "print(\"*\" * 30)\n",
    "print(a.name)\n",
    "print(a.age)\n",
    "print(id(a.name))\n",
    "print(id(a.age))"
   ]
  },
  {
   "cell_type": "code",
   "execution_count": 16,
   "metadata": {},
   "outputs": [
    {
     "name": "stdout",
     "output_type": "stream",
     "text": [
      "My name is huojuntao,My age is 18\n"
     ]
    }
   ],
   "source": [
    "class Student():\n",
    "    name = \"hjt\"\n",
    "    age = 22\n",
    "    \n",
    "    # 注意say的写法，参数有一个self\n",
    "    def say(self):\n",
    "        self.name = \"huojuntao\"\n",
    "        self.age = \"18\"\n",
    "        print(\"My name is {0},My age is {1}\".format(self.name, self.age))\n",
    "        \n",
    "hjt = Student()\n",
    "hjt.say()"
   ]
  },
  {
   "cell_type": "code",
   "execution_count": null,
   "metadata": {},
   "outputs": [],
   "source": [
    "class Teacher():\n",
    "    name = \"hjt\"\n",
    "    age = 20\n",
    "    \n",
    "    def say(self):\n",
    "        self.name = \"霍俊涛\"\n",
    "        self.age = 21\n",
    "        print(\"My name is {0},My age is {1}\".format(self.name, self.age))\n",
    "        \n",
    "    def sayAain():\n",
    "        print(\"Hello World\")"
   ]
  }
 ],
 "metadata": {
  "kernelspec": {
   "display_name": "Python 3",
   "language": "python",
   "name": "python3"
  },
  "language_info": {
   "codemirror_mode": {
    "name": "ipython",
    "version": 3
   },
   "file_extension": ".py",
   "mimetype": "text/x-python",
   "name": "python",
   "nbconvert_exporter": "python",
   "pygments_lexer": "ipython3",
   "version": "3.6.5"
  }
 },
 "nbformat": 4,
 "nbformat_minor": 2
}
