{
 "cells": [
  {
   "cell_type": "code",
   "execution_count": 4,
   "metadata": {},
   "outputs": [
    {
     "name": "stdout",
     "output_type": "stream",
     "text": [
      "{'__module__': '__main__', 'name': 'hjt', 'age': 22, '__dict__': <attribute '__dict__' of 'Student' objects>, '__weakref__': <attribute '__weakref__' of 'Student' objects>, '__doc__': None}\n",
      "{}\n",
      "hjt\n"
     ]
    }
   ],
   "source": [
    "class Student():\n",
    "    name = \"hjt\"\n",
    "    age = 22\n",
    "print(Student.__dict__)\n",
    "# 实例化\n",
    "hjt = Student()\n",
    "print(hjt.__dict__)\n",
    "print(hjt.name)"
   ]
  },
  {
   "cell_type": "code",
   "execution_count": 8,
   "metadata": {},
   "outputs": [
    {
     "name": "stdout",
     "output_type": "stream",
     "text": [
      "hjt\n",
      "22\n",
      "1524266374960\n",
      "1924427488\n",
      "******************************\n",
      "hjt\n",
      "22\n",
      "1524266374960\n",
      "1924427488\n"
     ]
    }
   ],
   "source": [
    "class A():\n",
    "    name = \"hjt\"\n",
    "    age = 22\n",
    "    \n",
    "    # 注意say的写法，参数有一个self\n",
    "    def say(self):\n",
    "        self.name = \"huojuntao\"\n",
    "        self.age = \"18\"\n",
    "# 此时，A称为类实例        \n",
    "print(A.name)\n",
    "print(A.age)\n",
    "# id可以鉴别一个变量是否和另一个变量是同一变量\n",
    "print(id(A.name))\n",
    "print(id(A.age))\n",
    "print(\"*\" * 30)\n",
    "\n",
    "a = A()\n",
    "print(a.name)\n",
    "print(a.age)\n",
    "print(id(a.name))\n",
    "print(id(a.age))"
   ]
  },
  {
   "cell_type": "code",
   "execution_count": 11,
   "metadata": {},
   "outputs": [
    {
     "name": "stdout",
     "output_type": "stream",
     "text": [
      "hjt\n",
      "22\n",
      "1524266374960\n",
      "1924427488\n",
      "******************************\n",
      "{'__module__': '__main__', 'name': 'hjt', 'age': 22, 'say': <function A.say at 0x00000162E5663158>, '__dict__': <attribute '__dict__' of 'A' objects>, '__weakref__': <attribute '__weakref__' of 'A' objects>, '__doc__': None}\n",
      "{}\n",
      "{'name': '123', 'age': 13}\n",
      "******************************\n",
      "123\n",
      "13\n",
      "1524267089232\n",
      "1924427200\n"
     ]
    }
   ],
   "source": [
    "# 此时，A称为类实例        \n",
    "print(A.name)\n",
    "print(A.age)\n",
    "# id可以鉴别一个变量是否和另一个变量是同一变量\n",
    "print(id(A.name))\n",
    "print(id(A.age))\n",
    "print(\"*\" * 30)\n",
    "\n",
    "a = A()\n",
    "print(A.__dict__)\n",
    "print(a.__dict__)\n",
    "\n",
    "a.name = \"123\"\n",
    "a.age = 13\n",
    "print(a.__dict__)\n",
    "\n",
    "print(\"*\" * 30)\n",
    "print(a.name)\n",
    "print(a.age)\n",
    "print(id(a.name))\n",
    "print(id(a.age))"
   ]
  },
  {
   "cell_type": "code",
   "execution_count": 16,
   "metadata": {},
   "outputs": [
    {
     "name": "stdout",
     "output_type": "stream",
     "text": [
      "My name is huojuntao,My age is 18\n"
     ]
    }
   ],
   "source": [
    "class Student():\n",
    "    name = \"hjt\"\n",
    "    age = 22\n",
    "    \n",
    "    # 注意say的写法，参数有一个self\n",
    "    def say(self):\n",
    "        self.name = \"huojuntao\"\n",
    "        self.age = \"18\"\n",
    "        print(\"My name is {0},My age is {1}\".format(self.name, self.age))\n",
    "        \n",
    "hjt = Student()\n",
    "hjt.say()"
   ]
  },
  {
   "cell_type": "code",
   "execution_count": 27,
   "metadata": {},
   "outputs": [
    {
     "name": "stdout",
     "output_type": "stream",
     "text": [
      "My name is 霍俊涛,My age is 20\n",
      "******************************\n",
      "hjt\n",
      "20\n",
      "Hello World\n"
     ]
    }
   ],
   "source": [
    "class Teacher():\n",
    "    name = \"hjt\"\n",
    "    age = 20\n",
    "    \n",
    "    def say(self):\n",
    "        self.name = \"霍俊涛\"\n",
    "        self.age = 21\n",
    "        # 调用类的成员变量需要用__class__\n",
    "        print(\"My name is {0},My age is {1}\".format(self.name, __class__.age))\n",
    "        \n",
    "    def sayAgain():\n",
    "        # 访问当前类的成员\n",
    "        print(__class__.name)\n",
    "        print(__class__.age)\n",
    "        print(\"Hello World\")\n",
    "        \n",
    "t = Teacher()\n",
    "t.say()\n",
    "# 调用绑定类函数需要使用类名\n",
    "# t.sayAgain\n",
    "print(\"*\" * 30)\n",
    "Teacher.sayAgain()"
   ]
  },
  {
   "cell_type": "code",
   "execution_count": 32,
   "metadata": {},
   "outputs": [
    {
     "name": "stdout",
     "output_type": "stream",
     "text": [
      "霍俊涛\n",
      "22\n",
      "霍俊涛\n",
      "22\n",
      "aaa\n",
      "18\n",
      "bbb\n",
      "90\n"
     ]
    }
   ],
   "source": [
    "# 关于self的案例\n",
    "\n",
    "class A():\n",
    "    name = \"aaa\"\n",
    "    age = 18 \n",
    "    \n",
    "    def __init__(self):\n",
    "        self.name = \"霍俊涛\"\n",
    "        self.age = 22\n",
    "        \n",
    "    def say(self):\n",
    "        print(self.name)\n",
    "        print(self.age)\n",
    "        \n",
    "class B():\n",
    "    name = \"bbb\"\n",
    "    age = 90\n",
    "    \n",
    "a = A()\n",
    "# 此时，系统会默认把a作为第一个参数传入函数\n",
    "a.say()\n",
    "\n",
    "# 此时，self被a替换\n",
    "A.say(a)\n",
    "# 同样可以把A作为参数传入\n",
    "A.say(A)\n",
    "\n",
    "# 此时，传入的是类实例B，因为B具有name和age属性，所以不会报错\n",
    "A.say(B)"
   ]
  },
  {
   "cell_type": "code",
   "execution_count": 43,
   "metadata": {},
   "outputs": [
    {
     "name": "stdout",
     "output_type": "stream",
     "text": [
      "hjt\n"
     ]
    },
    {
     "ename": "AttributeError",
     "evalue": "'Person' object has no attribute '__age'",
     "traceback": [
      "\u001b[1;31m---------------------------------------------------------------------------\u001b[0m",
      "\u001b[1;31mAttributeError\u001b[0m                            Traceback (most recent call last)",
      "\u001b[1;32m<ipython-input-43-619e697e9eb3>\u001b[0m in \u001b[0;36m<module>\u001b[1;34m()\u001b[0m\n\u001b[0;32m     11\u001b[0m \u001b[1;33m\u001b[0m\u001b[0m\n\u001b[0;32m     12\u001b[0m \u001b[1;31m# __age是私有变量\u001b[0m\u001b[1;33m\u001b[0m\u001b[1;33m\u001b[0m\u001b[0m\n\u001b[1;32m---> 13\u001b[1;33m \u001b[0mprint\u001b[0m\u001b[1;33m(\u001b[0m\u001b[0mp\u001b[0m\u001b[1;33m.\u001b[0m\u001b[0m__age\u001b[0m\u001b[1;33m)\u001b[0m\u001b[1;33m\u001b[0m\u001b[0m\n\u001b[0m",
      "\u001b[1;31mAttributeError\u001b[0m: 'Person' object has no attribute '__age'"
     ],
     "output_type": "error"
    }
   ],
   "source": [
    "# 私有变量案例\n",
    "class Person():\n",
    "    # name 是共有的成员\n",
    "    name = \"hjt\"\n",
    "    # __age 就是私有成员\n",
    "    __age = 18\n",
    "    \n",
    "p = Person()\n",
    "# name是共有变量\n",
    "print(p.name)\n",
    "\n",
    "# __age是私有变量\n",
    "print(p.__age)"
   ]
  },
  {
   "cell_type": "code",
   "execution_count": 48,
   "metadata": {},
   "outputs": [
    {
     "name": "stdout",
     "output_type": "stream",
     "text": [
      "{'__module__': '__main__', 'name': 'hjt', '_Person__age': 18, '__dict__': <attribute '__dict__' of 'Person' objects>, '__weakref__': <attribute '__weakref__' of 'Person' objects>, '__doc__': None}\n",
      "18\n"
     ]
    }
   ],
   "source": [
    "# name mangling技术\n",
    "print(Person.__dict__)\n",
    "\n",
    "print(p._Person__age)"
   ]
  }
 ],
 "metadata": {
  "kernelspec": {
   "display_name": "Python 3",
   "language": "python",
   "name": "python3"
  },
  "language_info": {
   "codemirror_mode": {
    "name": "ipython",
    "version": 3
   },
   "file_extension": ".py",
   "mimetype": "text/x-python",
   "name": "python",
   "nbconvert_exporter": "python",
   "pygments_lexer": "ipython3",
   "version": "3.6.5"
  }
 },
 "nbformat": 4,
 "nbformat_minor": 2
}
